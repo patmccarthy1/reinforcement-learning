{
 "cells": [
  {
   "cell_type": "code",
   "execution_count": 1,
   "metadata": {
    "button": false,
    "id": "20IyxDzgp3tU",
    "new_sheet": false,
    "run_control": {
     "read_only": false
    }
   },
   "outputs": [],
   "source": [
    "import numpy as np\n",
    "import matplotlib.pyplot as plt"
   ]
  },
  {
   "cell_type": "code",
   "execution_count": null,
   "metadata": {
    "button": false,
    "id": "JqXUHaAHp3tY",
    "new_sheet": false,
    "run_control": {
     "read_only": false
    }
   },
   "outputs": [],
   "source": [
    "class GridWorld(object):\n",
    "\n",
    "    def __init__(self):\n",
    "        \n",
    "        ### Attributes defining the Gridworld #######\n",
    "\n",
    "        # Shape of the gridworld\n",
    "        self.shape = (5,5)\n",
    "        \n",
    "        # Locations of the obstacles\n",
    "        self.obstacle_locs = [(1,1),(2,1),(2,3)]\n",
    "        \n",
    "        # Locations for the absorbing states\n",
    "        self.absorbing_locs = [(4,0),(4,1),(4,2),(4,3),(4,4)]\n",
    "        \n",
    "        # Rewards for each of the absorbing states \n",
    "        self.special_rewards = [-10, -10, -10, -10, 10] # Corresponds to each of the absorbing_locs\n",
    "        \n",
    "        # Reward for all the other states\n",
    "        self.default_reward = 0\n",
    "        \n",
    "        # Starting location\n",
    "        self.starting_loc = (3,0)\n",
    "        \n",
    "        # Action names\n",
    "        self.action_names = ['N','E','S','W'] # Action 0 is 'N', 1 is 'E' and so on\n",
    "        \n",
    "        # Number of actions\n",
    "        self.action_size = len(self.action_names)\n",
    "        \n",
    "        # Randomizing action results: [1 0 0 0] to no Noise in the action results.\n",
    "        self.action_randomizing_array = [0.8, 0.1, 0.0 , 0.1]\n",
    "        \n",
    "        ############################################\n",
    "    \n",
    "\n",
    "        #### Internal State  ####\n",
    "        \n",
    "        # Get attributes defining the world\n",
    "        state_size, T, R, absorbing, locs = self.build_grid_world()\n",
    "        \n",
    "        # Number of valid states in the gridworld (there are 22 of them - 5x5 grid minus obstacles)\n",
    "        self.state_size = state_size\n",
    "        \n",
    "        # Transition operator (3D tensor)\n",
    "        self.T = T # T[st+1, st, a] gives the probability that action a will \n",
    "                   # transition state st to state st+1\n",
    "        \n",
    "        # Reward function (3D tensor)\n",
    "        self.R = R # R[st+1, st, a ] gives the reward for transitioning to state\n",
    "                   # st+1 from state st with action a\n",
    "        \n",
    "        # Absorbing states\n",
    "        self.absorbing = absorbing\n",
    "        \n",
    "        # The locations of the valid states \n",
    "        self.locs = locs # State 0 is at the location self.locs[0] and so on\n",
    "        \n",
    "        # Number of the starting state\n",
    "        self.starting_state = self.loc_to_state(self.starting_loc, locs);\n",
    "        \n",
    "        # Locating the initial state\n",
    "        self.initial = np.zeros((1,len(locs)));\n",
    "        self.initial[0,self.starting_state] = 1\n",
    "        \n",
    "        # Placing the walls on a bitmap\n",
    "        self.walls = np.zeros(self.shape);\n",
    "        for ob in self.obstacle_locs:\n",
    "            self.walls[ob]=1\n",
    "            \n",
    "        # Placing the absorbers on a grid for illustration\n",
    "        self.absorbers = np.zeros(self.shape)\n",
    "        for ab in self.absorbing_locs:\n",
    "            self.absorbers[ab] = -1\n",
    "        \n",
    "        # Placing the rewarders on a grid for illustration\n",
    "        self.rewarders = np.zeros(self.shape)\n",
    "        for i, rew in enumerate(self.absorbing_locs):\n",
    "            self.rewarders[rew] = self.special_rewards[i]\n",
    "        \n",
    "        #Illustrating the grid world\n",
    "        self.paint_maps()\n",
    "\n",
    "        ################################\n",
    "    \n",
    "    \n",
    "\n",
    "    ####### Getters ###########\n",
    "    \n",
    "    def get_transition_matrix(self):\n",
    "        return self.T\n",
    "    \n",
    "    def get_reward_matrix(self):\n",
    "        return self.R\n",
    "    \n",
    "    ########################\n",
    "\n",
    "\n",
    "    \n",
    "    ####### Methods #########\n",
    "    \n",
    "    def value_iteration(self, discount = 0.9, threshold = 0.0001):\n",
    "        ## Slide 144 of the lecture notes for the algorithm ##\n",
    "        \n",
    "        # Transition and reward matrices, both are 3d tensors, c.f. internal state\n",
    "        T = self.get_transition_matrix()\n",
    "        R = self.get_reward_matrix()\n",
    "        \n",
    "        # Initialisation\n",
    "        epochs = 0\n",
    "        delta = threshold # Setting value of delta to go through the first breaking condition\n",
    "        V = np.zeros(self.state_size) # Initialise values at 0 for each state\n",
    "\n",
    "        while delta >= threshold:\n",
    "            epochs += 1 # Increment the epoch\n",
    "            delta = 0 # Reinitialise delta value\n",
    "\n",
    "            # For each state\n",
    "            for state_idx in range(self.state_size):\n",
    "\n",
    "                # If not an absorbing state\n",
    "                if not(self.absorbing[0, state_idx]):\n",
    "                  \n",
    "                    # Store the previous value for that state\n",
    "                    v = V[state_idx] \n",
    "\n",
    "                    # Compute Q value\n",
    "                    Q = np.zeros(4) # Initialise with value 0\n",
    "                    for state_idx_prime in range(self.state_size):\n",
    "                        Q += T[state_idx_prime,state_idx,:] * (R[state_idx_prime,state_idx, :] + discount * V[state_idx_prime])\n",
    "                \n",
    "                    # Set the new value to the maximum of Q\n",
    "                    V[state_idx]= np.max(Q) \n",
    "\n",
    "                    # Compute the new delta\n",
    "                    delta = max(delta, np.abs(v - V[state_idx]))\n",
    "            \n",
    "\n",
    "        # When the loop is finished, fill in the optimal policy\n",
    "        optimal_policy = np.zeros((self.state_size, self.action_size)) # Initialisation\n",
    "\n",
    "        # For each state\n",
    "        for state_idx in range(self.state_size):\n",
    "             \n",
    "            # Compute Q value\n",
    "            Q = np.zeros(4)\n",
    "            for state_idx_prime in range(self.state_size):\n",
    "                Q += T[state_idx_prime,state_idx,:] * (R[state_idx_prime,state_idx, :] + discount * V[state_idx_prime])\n",
    "            \n",
    "            # The action that maximises the Q value gets probability 1\n",
    "            optimal_policy[state_idx, np.argmax(Q)] = 1 \n",
    "\n",
    "        return optimal_policy, epochs\n",
    "\n",
    "\n",
    "    \n",
    "    def policy_iteration(self, discount=0.9, threshold = 0.0001):\n",
    "        ## Slide 139 of the lecture notes for pseudocode ##\n",
    "        \n",
    "        # Transition and reward matrices, both are 3d tensors, c.f. internal state\n",
    "        T = self.get_transition_matrix()\n",
    "        R = self.get_reward_matrix()\n",
    "        \n",
    "        # Initialisation\n",
    "        policy = np.zeros((self.state_size, self.action_size)) # Vector of 0\n",
    "        policy[:,0] = 1 # Initialise policy to choose action 1 systematically\n",
    "        epochs = 0\n",
    "        policy_stable = False # Condition to stop the main loop\n",
    "\n",
    "        while not(policy_stable): \n",
    "\n",
    "            # Policy evaluation\n",
    "            V, epochs_eval = self.policy_evaluation(policy, threshold, discount)\n",
    "            epochs += epochs_eval # Increment epoch\n",
    "\n",
    "            # Set the boolean to True, it will be set to False later if the policy prove unstable\n",
    "            policy_stable = True\n",
    "\n",
    "            # Policy iteration\n",
    "            for state_idx in range(policy.shape[0]):\n",
    "                \n",
    "                # If not an absorbing state\n",
    "                if not(self.absorbing[0,state_idx]):\n",
    "                    \n",
    "                    # Store the old action\n",
    "                    old_action = np.argmax(policy[state_idx,:])\n",
    "                \n",
    "                    # Compute Q value\n",
    "                    Q = np.zeros(4) # Initialise with value 0\n",
    "                    for state_idx_prime in range(policy.shape[0]):\n",
    "                        Q += T[state_idx_prime,state_idx,:] * (R[state_idx_prime,state_idx, :] + discount * V[state_idx_prime])\n",
    "\n",
    "                    # Compute corresponding policy\n",
    "                    new_policy = np.zeros(4)\n",
    "                    new_policy[np.argmax(Q)] = 1  # The action that maximises the Q value gets probability 1\n",
    "                    policy[state_idx] = new_policy\n",
    "                \n",
    "                    # Check if the policy has converged\n",
    "                    if old_action != np.argmax(policy[state_idx]):\n",
    "                        policy_stable = False\n",
    "            \n",
    "        return V, policy, epochs\n",
    "                \n",
    "        \n",
    "    \n",
    "    def policy_evaluation(self, policy, threshold, discount):\n",
    "        \n",
    "        # Make sure delta is bigger than the threshold to start with\n",
    "        delta= 2*threshold\n",
    "        \n",
    "        #Get the reward and transition matrices\n",
    "        R = self.get_reward_matrix()\n",
    "        T = self.get_transition_matrix()\n",
    "        \n",
    "        # The value is initialised at 0\n",
    "        V = np.zeros(policy.shape[0])\n",
    "        # Make a deep copy of the value array to hold the update during the evaluation\n",
    "        Vnew = np.copy(V)\n",
    "        \n",
    "        epoch = 0\n",
    "        # While the Value has not yet converged do:\n",
    "        while delta>threshold:\n",
    "            epoch += 1\n",
    "            for state_idx in range(policy.shape[0]):\n",
    "                # If it is one of the absorbing states, ignore\n",
    "                if(self.absorbing[0,state_idx]):\n",
    "                    continue   \n",
    "                \n",
    "                # Accumulator variable for the Value of a state\n",
    "                tmpV = 0\n",
    "                for action_idx in range(policy.shape[1]):\n",
    "                    # Accumulator variable for the State-Action Value\n",
    "                    tmpQ = 0\n",
    "                    for state_idx_prime in range(policy.shape[0]):\n",
    "                        tmpQ = tmpQ + T[state_idx_prime,state_idx,action_idx] * (R[state_idx_prime,state_idx, action_idx] + discount * V[state_idx_prime])\n",
    "                    \n",
    "                    tmpV += policy[state_idx,action_idx] * tmpQ\n",
    "                    \n",
    "                # Update the value of the state\n",
    "                Vnew[state_idx] = tmpV\n",
    "            \n",
    "            # After updating the values of all states, update the delta\n",
    "            # Note: The below is our example way of computing delta.\n",
    "            #       Other stopping criteria may be used (for instance mean squared error).\n",
    "            #       We encourage you to explore different ways of computing delta to see \n",
    "            #       how it can influence outcomes.\n",
    "            delta =  max(abs(Vnew-V))\n",
    "            # and save the new value into the old\n",
    "            V=np.copy(Vnew)\n",
    "            \n",
    "        return V, epoch\n",
    "\n",
    "    ##########################\n",
    "    \n",
    "    ########### Internal Drawing Functions #####################\n",
    "\n",
    "    ## You do not need to understand these functions in detail in order to complete the lab ##\n",
    "\n",
    "\n",
    "    def draw_deterministic_policy(self, Policy):\n",
    "        # Draw a deterministic policy\n",
    "        # The policy needs to be a np array of 22 values between 0 and 3 with\n",
    "        # 0 -> N, 1->E, 2->S, 3->W\n",
    "        plt.figure()\n",
    "        \n",
    "        plt.imshow(self.walls+self.rewarders +self.absorbers) # Create the graph of the grid\n",
    "        #plt.hold('on')\n",
    "        for state, action in enumerate(Policy):\n",
    "            if(self.absorbing[0,state]): # If it is an absorbing state, don't plot any action\n",
    "                continue\n",
    "            arrows = [r\"$\\uparrow$\",r\"$\\rightarrow$\", r\"$\\downarrow$\", r\"$\\leftarrow$\"] # List of arrows corresponding to each possible action\n",
    "            action_arrow = arrows[action] # Take the corresponding action\n",
    "            location = self.locs[state] # Compute its location on graph\n",
    "            plt.text(location[1], location[0], action_arrow, ha='center', va='center') # Place it on graph\n",
    "    \n",
    "        plt.show()\n",
    "\n",
    "    \n",
    "    def draw_value(self, Value):\n",
    "        # Draw a policy value function\n",
    "        # The value need to be a np array of 22 values \n",
    "        plt.figure()\n",
    "        \n",
    "        plt.imshow(self.walls+self.rewarders +self.absorbers) # Create the graph of the grid\n",
    "        for state, value in enumerate(Value):\n",
    "            if(self.absorbing[0,state]): # If it is an absorbing state, don't plot any value\n",
    "                continue\n",
    "            location = self.locs[state] # Compute the value location on graph\n",
    "            plt.text(location[1], location[0], round(value,2), ha='center', va='center') # Place it on graph\n",
    "    \n",
    "        plt.show()\n",
    "\n",
    "\n",
    "    def draw_deterministic_policy_grid(self, Policy, title, n_columns, n_lines):\n",
    "        # Draw a grid of deterministic policy\n",
    "        # The policy needs to be an arrya of np array of 22 values between 0 and 3 with\n",
    "        # 0 -> N, 1->E, 2->S, 3->W\n",
    "        plt.figure(figsize=(20,8))\n",
    "        for subplot in range (len(Policy)): # Go through all policies\n",
    "          ax = plt.subplot(n_columns, n_lines, subplot+1) # Create a subplot for each policy\n",
    "          ax.imshow(self.walls+self.rewarders +self.absorbers) # Create the graph of the grid\n",
    "          for state, action in enumerate(Policy[subplot]):\n",
    "              if(self.absorbing[0,state]): # If it is an absorbing state, don't plot any action\n",
    "                  continue\n",
    "              arrows = [r\"$\\uparrow$\",r\"$\\rightarrow$\", r\"$\\downarrow$\", r\"$\\leftarrow$\"] # List of arrows corresponding to each possible action\n",
    "              action_arrow = arrows[action] # Take the corresponding action\n",
    "              location = self.locs[state] # Compute its location on graph\n",
    "              plt.text(location[1], location[0], action_arrow, ha='center', va='center') # Place it on graph\n",
    "          ax.title.set_text(title[subplot]) # Set the title for the graoh given as argument\n",
    "        plt.show()\n",
    "\n",
    "    def draw_value_grid(self, Value, title, n_columns, n_lines):\n",
    "        # Draw a grid of value function\n",
    "        # The value need to be an array of np array of 22 values \n",
    "        plt.figure(figsize=(20,8))\n",
    "        for subplot in range (len(Value)): # Go through all values\n",
    "          ax = plt.subplot(n_columns, n_lines, subplot+1) # Create a subplot for each value\n",
    "          ax.imshow(self.walls+self.rewarders +self.absorbers) # Create the graph of the grid\n",
    "          for state, value in enumerate(Value[subplot]):\n",
    "              if(self.absorbing[0,state]): # If it is an absorbing state, don't plot any value\n",
    "                  continue\n",
    "              location = self.locs[state] # Compute the value location on graph\n",
    "              plt.text(location[1], location[0], round(value,1), ha='center', va='center') # Place it on graph\n",
    "          ax.title.set_text(title[subplot]) # Set the title for the graoh given as argument\n",
    "        plt.show()\n",
    "\n",
    "    ##########################\n",
    "    \n",
    "    \n",
    "    ########### Internal Helper Functions #####################\n",
    "\n",
    "    ## You do not need to understand these functions in detail in order to complete the lab ##\n",
    "\n",
    "    def paint_maps(self):\n",
    "        # Helper function to print the grid word used in __init__\n",
    "        plt.figure()\n",
    "        plt.subplot(1,3,1)\n",
    "        plt.imshow(self.walls)\n",
    "        plt.title('Obstacles')\n",
    "        plt.subplot(1,3,2)\n",
    "        plt.imshow(self.absorbers)\n",
    "        plt.title('Absorbing states')\n",
    "        plt.subplot(1,3,3)\n",
    "        plt.imshow(self.rewarders)\n",
    "        plt.title('Reward states')\n",
    "        plt.show()\n",
    "        \n",
    "\n",
    "    def build_grid_world(self):\n",
    "        # Get the locations of all the valid states, the neighbours of each state (by state number),\n",
    "        # and the absorbing states (array of 0's with ones in the absorbing states)\n",
    "        locations, neighbours, absorbing = self.get_topology()\n",
    "        \n",
    "        # Get the number of states\n",
    "        S = len(locations)\n",
    "        \n",
    "        # Initialise the transition matrix\n",
    "        T = np.zeros((S,S,4))\n",
    "        \n",
    "        for action in range(4):\n",
    "            for effect in range(4):\n",
    "                # Randomize the outcome of taking an action\n",
    "                outcome = (action+effect+1) % 4\n",
    "                if outcome == 0:\n",
    "                    outcome = 3\n",
    "                else:\n",
    "                    outcome -= 1\n",
    "\n",
    "                # Fill the transition matrix:\n",
    "                # A good way to understand the code, is to first ask ourselves what the structure \n",
    "                # of the transition probability ‘matrix’ should be, given that we have state, successor state and action. \n",
    "                # Thus, a simple row x column matrix of successor state and will not suffice, as we also have to condition \n",
    "                #  on the action. So we can therefore choose to implement this to  have a structure that is 3 dimensional\n",
    "                # (technically a tensor, hence the variable name T). I would not worry too much about what a tensor is, \n",
    "                # it is simply an array that takes 3 arguments to get a value, just like conventional matrix is an array that\n",
    "                # takes 2 arguments (row and column), to get a value. To touch all the elements in this structure we\n",
    "                # need therefore to loop over states and actions.\n",
    "\n",
    "                prob = self.action_randomizing_array[effect]\n",
    "                for prior_state in range(S):\n",
    "                    post_state = neighbours[prior_state, outcome]\n",
    "                    post_state = int(post_state)\n",
    "                    T[post_state,prior_state,action] = T[post_state,prior_state,action]+prob\n",
    "                    \n",
    "    \n",
    "        # Build the reward matrix\n",
    "        R = self.default_reward*np.ones((S,S,4))\n",
    "        for i, sr in enumerate(self.special_rewards):\n",
    "            post_state = self.loc_to_state(self.absorbing_locs[i],locations)\n",
    "            R[post_state,:,:]= sr\n",
    "        \n",
    "        return S, T,R,absorbing,locations\n",
    "    \n",
    "\n",
    "    def get_topology(self):\n",
    "        height = self.shape[0]\n",
    "        width = self.shape[1]\n",
    "        \n",
    "        index = 1 \n",
    "        locs = []\n",
    "        neighbour_locs = []\n",
    "        \n",
    "        for i in range(height):\n",
    "            for j in range(width):\n",
    "                # Get the locaiton of each state\n",
    "                loc = (i,j)\n",
    "                \n",
    "                #And append it to the valid state locations if it is a valid state (ie not absorbing)\n",
    "                if(self.is_location(loc)):\n",
    "                    locs.append(loc)\n",
    "                    \n",
    "                    # Get an array with the neighbours of each state, in terms of locations\n",
    "                    local_neighbours = [self.get_neighbour(loc,direction) for direction in ['nr','ea','so', 'we']]\n",
    "                    neighbour_locs.append(local_neighbours)\n",
    "                \n",
    "        # translate neighbour lists from locations to states\n",
    "        num_states = len(locs)\n",
    "        state_neighbours = np.zeros((num_states,4))\n",
    "        \n",
    "        for state in range(num_states):\n",
    "            for direction in range(4):\n",
    "                # Find neighbour location\n",
    "                nloc = neighbour_locs[state][direction]\n",
    "                \n",
    "                # Turn location into a state number\n",
    "                nstate = self.loc_to_state(nloc,locs)\n",
    "      \n",
    "                # Insert into neighbour matrix\n",
    "                state_neighbours[state,direction] = nstate;\n",
    "                \n",
    "    \n",
    "        # Translate absorbing locations into absorbing state indices\n",
    "        absorbing = np.zeros((1,num_states))\n",
    "        for a in self.absorbing_locs:\n",
    "            absorbing_state = self.loc_to_state(a,locs)\n",
    "            absorbing[0,absorbing_state] =1\n",
    "        \n",
    "        return locs, state_neighbours, absorbing \n",
    "\n",
    "\n",
    "    def loc_to_state(self,loc,locs):\n",
    "        #takes list of locations and gives index corresponding to input loc\n",
    "        return locs.index(tuple(loc))\n",
    "\n",
    "\n",
    "    def is_location(self, loc):\n",
    "        # It is a valid location if it is in grid and not obstacle\n",
    "        if(loc[0]<0 or loc[1]<0 or loc[0]>self.shape[0]-1 or loc[1]>self.shape[1]-1):\n",
    "            return False\n",
    "        elif(loc in self.obstacle_locs):\n",
    "            return False\n",
    "        else:\n",
    "             return True\n",
    "            \n",
    "    def get_neighbour(self,loc,direction):\n",
    "        #Find the valid neighbours (ie that are in the grif and not obstacle)\n",
    "        i = loc[0]\n",
    "        j = loc[1]\n",
    "        \n",
    "        nr = (i-1,j)\n",
    "        ea = (i,j+1)\n",
    "        so = (i+1,j)\n",
    "        we = (i,j-1)\n",
    "        \n",
    "        # If the neighbour is a valid location, accept it, otherwise, stay put\n",
    "        if(direction == 'nr' and self.is_location(nr)):\n",
    "            return nr\n",
    "        elif(direction == 'ea' and self.is_location(ea)):\n",
    "            return ea\n",
    "        elif(direction == 'so' and self.is_location(so)):\n",
    "            return so\n",
    "        elif(direction == 'we' and self.is_location(we)):\n",
    "            return we\n",
    "        else:\n",
    "            #default is to return to the same location\n",
    "            return loc\n",
    "        \n",
    "###########################################         \n"
   ]
  },
  {
   "cell_type": "code",
   "execution_count": null,
   "metadata": {
    "button": false,
    "colab": {
     "base_uri": "https://localhost:8080/",
     "height": 196
    },
    "id": "eyeJfvwXp3ta",
    "new_sheet": false,
    "outputId": "4e0622f2-d9af-45ce-e6a2-b8ce727584e6",
    "run_control": {
     "read_only": false
    },
    "scrolled": false
   },
   "outputs": [
    {
     "name": "stdout",
     "output_type": "stream",
     "text": [
      "Creating the Grid world, represented as:\n",
      "\n"
     ]
    },
    {
     "data": {
      "image/png": "[encoded data removed]",
      "text/plain": [
       "<Figure size 432x288 with 3 Axes>"
      ]
     },
     "metadata": {
      "needs_background": "light",
      "tags": []
     },
     "output_type": "display_data"
    }
   ],
   "source": [
    "### Define the grid\n",
    "print(\"Creating the Grid world, represented as:\\n\")\n",
    "grid = GridWorld()"
   ]
  },
  {
   "cell_type": "code",
   "execution_count": null,
   "metadata": {
    "button": false,
    "colab": {
     "base_uri": "https://localhost:8080/",
     "height": 928
    },
    "id": "f3238vrZp3ti",
    "new_sheet": false,
    "outputId": "c7b9c0c7-6a56-4e11-f5e9-9f29728c4993",
    "run_control": {
     "read_only": false
    }
   },
   "outputs": [
    {
     "name": "stdout",
     "output_type": "stream",
     "text": [
      "Considering the uniform (unbiased) policy:\n",
      "\n",
      " [[0.25 0.25 0.25 0.25]\n",
      " [0.25 0.25 0.25 0.25]\n",
      " [0.25 0.25 0.25 0.25]\n",
      " [0.25 0.25 0.25 0.25]\n",
      " [0.25 0.25 0.25 0.25]\n",
      " [0.25 0.25 0.25 0.25]\n",
      " [0.25 0.25 0.25 0.25]\n",
      " [0.25 0.25 0.25 0.25]\n",
      " [0.25 0.25 0.25 0.25]\n",
      " [0.25 0.25 0.25 0.25]\n",
      " [0.25 0.25 0.25 0.25]\n",
      " [0.25 0.25 0.25 0.25]\n",
      " [0.25 0.25 0.25 0.25]\n",
      " [0.25 0.25 0.25 0.25]\n",
      " [0.25 0.25 0.25 0.25]\n",
      " [0.25 0.25 0.25 0.25]\n",
      " [0.25 0.25 0.25 0.25]\n",
      " [0.25 0.25 0.25 0.25]\n",
      " [0.25 0.25 0.25 0.25]\n",
      " [0.25 0.25 0.25 0.25]\n",
      " [0.25 0.25 0.25 0.25]\n",
      " [0.25 0.25 0.25 0.25]]\n",
      "\n",
      "\n",
      "The value of that policy with gamma = 0.9 is:\n",
      "\n",
      " [-0.92770711 -0.60054178 -0.54388538 -0.25215481 -0.01778786 -1.67077742\n",
      " -1.02388928 -0.30990071  0.20579934 -3.15953296 -2.67561315  1.03404435\n",
      " -6.05473565 -6.58553923 -5.51827441 -4.15413639  2.32018866  0.\n",
      "  0.          0.          0.          0.        ]\n",
      "\n",
      "\n",
      "Its graphical representation is:\n",
      "\n"
     ]
    },
    {
     "data": {
      "image/png": "[encoded data removed]",
      "text/plain": [
       "<Figure size 432x288 with 1 Axes>"
      ]
     },
     "metadata": {
      "needs_background": "light",
      "tags": []
     },
     "output_type": "display_data"
    },
    {
     "name": "stdout",
     "output_type": "stream",
     "text": [
      "\n",
      "It took 41 epochs\n",
      "\n"
     ]
    }
   ],
   "source": [
    "### Question 1: study of a uniform policy\n",
    "\n",
    "# Plot policy\n",
    "Policy = np.zeros((grid.state_size, grid.action_size))\n",
    "Policy = Policy + 0.25\n",
    "print(\"Considering the uniform (unbiased) policy:\\n\\n {}\".format(Policy))\n",
    "# Do not plot a graphical representation for this policy as it is fully random\n",
    "\n",
    "# Policy evaluation for gamma = 0.9\n",
    "val, epochs = grid.policy_evaluation(Policy, 0.001, 0.9)\n",
    "\n",
    "# Plot value function\n",
    "print(\"\\n\\nThe value of that policy with gamma = 0.9 is:\\n\\n {}\".format(val))\n",
    "print(\"\\n\\nIts graphical representation is:\\n\")\n",
    "grid.draw_value(val)\n",
    "\n",
    "# Plot number of epochs\n",
    "print(\"\\nIt took {} epochs\\n\".format(epochs))"
   ]
  },
  {
   "cell_type": "code",
   "execution_count": null,
   "metadata": {
    "button": false,
    "colab": {
     "base_uri": "https://localhost:8080/",
     "height": 825
    },
    "id": "VF4ilbcrp3tg",
    "new_sheet": false,
    "outputId": "64bb3bdd-7bcf-4e57-968c-8cb1401d26e2",
    "run_control": {
     "read_only": false
    }
   },
   "outputs": [
    {
     "name": "stdout",
     "output_type": "stream",
     "text": [
      "\n",
      "Impact of gamma value on the number of epochs needed for the policy evaluation algorithm:\n",
      "\n"
     ]
    },
    {
     "data": {
      "image/png": "[encoded data removed]",
      "text/plain": [
       "<Figure size 432x288 with 1 Axes>"
      ]
     },
     "metadata": {
      "needs_background": "light",
      "tags": []
     },
     "output_type": "display_data"
    },
    {
     "name": "stdout",
     "output_type": "stream",
     "text": [
      "\n",
      "Graphical representation of the value function for each gamma:\n",
      "\n"
     ]
    },
    {
     "data": {
      "image/png": "[encoded data removed]",
      "text/plain": [
       "<Figure size 1440x576 with 11 Axes>"
      ]
     },
     "metadata": {
      "needs_background": "light",
      "tags": []
     },
     "output_type": "display_data"
    }
   ],
   "source": [
    "# Impact of gamma on the uniform policy evaluation\n",
    "\n",
    "gamma_range = [0, 0.1, 0.2, 0.3, 0.4, 0.5, 0.6, 0.7, 0.8, 0.9, 1.0]\n",
    "epochs_needed = []\n",
    "vals_needed = []\n",
    "vals_title = []\n",
    "\n",
    "# Use policy evaluation for each gamma value\n",
    "for gamma in gamma_range:\n",
    "    val, epochs = grid.policy_evaluation(Policy, 0.001, gamma)\n",
    "    epochs_needed.append(epochs)\n",
    "    vals_needed.append(val)\n",
    "    vals_title.append(\"gamma = {}\".format(gamma))\n",
    "\n",
    "# Plot the number of epochs vs gamma values\n",
    "print(\"\\nImpact of gamma value on the number of epochs needed for the policy evaluation algorithm:\\n\")\n",
    "plt.figure()\n",
    "plt.plot(gamma_range, epochs_needed)\n",
    "plt.xlabel(\"Gamma\")\n",
    "plt.ylabel(\"Number of epochs\")\n",
    "plt.show()\n",
    "\n",
    "# Print all value functions for different values of gamma\n",
    "print(\"\\nGraphical representation of the value function for each gamma:\\n\")\n",
    "grid.draw_value_grid(vals_needed, vals_title, 2, 6)\n"
   ]
  },
  {
   "cell_type": "code",
   "execution_count": null,
   "metadata": {
    "button": false,
    "colab": {
     "base_uri": "https://localhost:8080/",
     "height": 1000
    },
    "id": "gsK5TzK3p3tl",
    "new_sheet": false,
    "outputId": "e62e054c-7f18-48b7-930f-776cbbf0fd14",
    "run_control": {
     "read_only": false
    }
   },
   "outputs": [
    {
     "name": "stdout",
     "output_type": "stream",
     "text": [
      "The value of the optimal policy computed using policy iteration is:\n",
      "\n",
      " [3.72881344 4.30355273 4.90126954 5.52789888 6.21035569 3.27406831\n",
      " 5.33409345 6.21035569 7.15821227 2.87476261 4.68359329 8.27089052\n",
      " 2.48976086 2.17665428 4.13994317 6.35398926 9.41962531 0.\n",
      " 0.         0.         0.         0.        ]\n",
      "\n",
      "\n",
      "Its graphical representation is:\n",
      "\n"
     ]
    },
    {
     "data": {
      "image/png": "[encoded data removed]",
      "text/plain": [
       "<Figure size 432x288 with 1 Axes>"
      ]
     },
     "metadata": {
      "needs_background": "light",
      "tags": []
     },
     "output_type": "display_data"
    },
    {
     "name": "stdout",
     "output_type": "stream",
     "text": [
      "\n",
      "\n",
      "The optimal policy using policy iteration is:\n",
      "\n",
      " [[0. 1. 0. 0.]\n",
      " [0. 1. 0. 0.]\n",
      " [0. 1. 0. 0.]\n",
      " [0. 1. 0. 0.]\n",
      " [0. 0. 1. 0.]\n",
      " [1. 0. 0. 0.]\n",
      " [0. 1. 0. 0.]\n",
      " [0. 1. 0. 0.]\n",
      " [0. 0. 1. 0.]\n",
      " [1. 0. 0. 0.]\n",
      " [1. 0. 0. 0.]\n",
      " [0. 0. 1. 0.]\n",
      " [1. 0. 0. 0.]\n",
      " [0. 1. 0. 0.]\n",
      " [1. 0. 0. 0.]\n",
      " [0. 1. 0. 0.]\n",
      " [0. 0. 1. 0.]\n",
      " [1. 0. 0. 0.]\n",
      " [1. 0. 0. 0.]\n",
      " [1. 0. 0. 0.]\n",
      " [1. 0. 0. 0.]\n",
      " [1. 0. 0. 0.]]\n",
      "\n",
      "\n",
      "Its graphical representation is:\n",
      "\n"
     ]
    },
    {
     "data": {
      "image/png": "[encoded data removed]",
      "text/plain": [
       "<Figure size 432x288 with 1 Axes>"
      ]
     },
     "metadata": {
      "needs_background": "light",
      "tags": []
     },
     "output_type": "display_data"
    },
    {
     "name": "stdout",
     "output_type": "stream",
     "text": [
      "\n",
      "It took 332 epochs\n",
      "\n"
     ]
    }
   ],
   "source": [
    "### Question 2 to 6:\n",
    "\n",
    "# Policy iteration algorithm\n",
    "V_opt, pol_opt, epochs = grid.policy_iteration()\n",
    "\n",
    "# Plot value function for policy iteration\n",
    "print(\"The value of the optimal policy computed using policy iteration is:\\n\\n {}\".format(V_opt))\n",
    "print(\"\\n\\nIts graphical representation is:\\n\")\n",
    "grid.draw_value(val)\n",
    "\n",
    "# Plot policy for policy iteration\n",
    "print(\"\\n\\nThe optimal policy using policy iteration is:\\n\\n {}\".format(pol_opt))\n",
    "print(\"\\n\\nIts graphical representation is:\\n\")\n",
    "grid.draw_deterministic_policy(np.array([np.argmax(pol_opt[row,:]) for row in range(grid.state_size)]))\n",
    "\n",
    "# Plot number of epochs\n",
    "print(\"\\nIt took {} epochs\\n\".format(epochs))"
   ]
  },
  {
   "cell_type": "code",
   "execution_count": null,
   "metadata": {
    "colab": {
     "base_uri": "https://localhost:8080/",
     "height": 844
    },
    "id": "SJP49aeCy8e9",
    "outputId": "dac46f4f-7a4b-42fd-b845-d10704a5ef05"
   },
   "outputs": [
    {
     "name": "stdout",
     "output_type": "stream",
     "text": [
      "\n",
      "Impact of gamma value on the number of epochs needed for the policy iteration algorithm:\n",
      "\n"
     ]
    },
    {
     "data": {
      "image/png": "[encoded data removed]",
      "text/plain": [
       "<Figure size 432x288 with 1 Axes>"
      ]
     },
     "metadata": {
      "needs_background": "light",
      "tags": []
     },
     "output_type": "display_data"
    },
    {
     "name": "stdout",
     "output_type": "stream",
     "text": [
      "\n",
      "Graphical representation of the value function for each gamma:\n",
      "\n"
     ]
    },
    {
     "data": {
      "image/png": "[encoded data removed]",
      "text/plain": [
       "<Figure size 1440x576 with 5 Axes>"
      ]
     },
     "metadata": {
      "needs_background": "light",
      "tags": []
     },
     "output_type": "display_data"
    },
    {
     "name": "stdout",
     "output_type": "stream",
     "text": [
      "\n",
      "Graphical representation of the policy for each gamma:\n",
      "\n"
     ]
    },
    {
     "data": {
      "image/png": "[encoded data removed]",
      "text/plain": [
       "<Figure size 1440x576 with 5 Axes>"
      ]
     },
     "metadata": {
      "needs_background": "light",
      "tags": []
     },
     "output_type": "display_data"
    }
   ],
   "source": [
    "# Impact of gamma on the policy iteration algorithm\n",
    "\n",
    "gamma_range = [0, 0.2, 0.4, 0.6, 0.8]\n",
    "epochs_needed = []\n",
    "pols_needed = []\n",
    "vals_needed = []\n",
    "titles = []\n",
    "\n",
    "# Use policy iteration for each gamma value\n",
    "for gamma in gamma_range:\n",
    "    V_opt, pol_opt, epochs = grid.policy_iteration(discount = gamma)\n",
    "    epochs_needed.append(epochs)\n",
    "    pols_needed.append(np.array([np.argmax(pol_opt[row,:]) for row in range(grid.state_size)]))\n",
    "    vals_needed.append(V_opt)\n",
    "    titles.append(\"gamma = {}\".format(gamma))\n",
    "\n",
    "# Plot the number of epochs vs gamma values\n",
    "print(\"\\nImpact of gamma value on the number of epochs needed for the policy iteration algorithm:\\n\")\n",
    "plt.figure()\n",
    "plt.plot(gamma_range, epochs_needed)\n",
    "plt.xlabel(\"Gamma range\")\n",
    "plt.ylabel(\"Number of epochs\")\n",
    "plt.show()\n",
    "\n",
    "# Print all value functions and policies for different values of gamma\n",
    "print(\"\\nGraphical representation of the value function for each gamma:\\n\")\n",
    "grid.draw_value_grid(vals_needed, titles, 1, 6)\n",
    "\n",
    "print(\"\\nGraphical representation of the policy for each gamma:\\n\")\n",
    "grid.draw_deterministic_policy_grid(pols_needed, titles, 1, 6)"
   ]
  },
  {
   "cell_type": "code",
   "execution_count": null,
   "metadata": {
    "colab": {
     "base_uri": "https://localhost:8080/",
     "height": 792
    },
    "id": "I9LOSONzq2_p",
    "outputId": "b0a33294-31e6-4734-d565-50546a744513"
   },
   "outputs": [
    {
     "name": "stdout",
     "output_type": "stream",
     "text": [
      "The optimal policy computed using value iteration is:\n",
      "\n",
      " [[0. 1. 0. 0.]\n",
      " [0. 1. 0. 0.]\n",
      " [0. 1. 0. 0.]\n",
      " [0. 1. 0. 0.]\n",
      " [0. 0. 1. 0.]\n",
      " [1. 0. 0. 0.]\n",
      " [0. 1. 0. 0.]\n",
      " [0. 1. 0. 0.]\n",
      " [0. 0. 1. 0.]\n",
      " [1. 0. 0. 0.]\n",
      " [1. 0. 0. 0.]\n",
      " [0. 0. 1. 0.]\n",
      " [1. 0. 0. 0.]\n",
      " [0. 1. 0. 0.]\n",
      " [1. 0. 0. 0.]\n",
      " [0. 1. 0. 0.]\n",
      " [0. 0. 1. 0.]\n",
      " [1. 0. 0. 0.]\n",
      " [1. 0. 0. 0.]\n",
      " [1. 0. 0. 0.]\n",
      " [0. 1. 0. 0.]\n",
      " [0. 1. 0. 0.]]\n",
      "\n",
      "\n",
      "Its graphical representation is:\n",
      "\n"
     ]
    },
    {
     "data": {
      "image/png": "[encoded data removed]",
      "text/plain": [
       "<Figure size 432x288 with 1 Axes>"
      ]
     },
     "metadata": {
      "needs_background": "light",
      "tags": []
     },
     "output_type": "display_data"
    },
    {
     "name": "stdout",
     "output_type": "stream",
     "text": [
      "\n",
      "It took 21 epochs\n",
      "\n"
     ]
    }
   ],
   "source": [
    "# Value iteration algorithm\n",
    "pol_opt2, epochs = grid.value_iteration()\n",
    "\n",
    "# Plot policy for policy iteration\n",
    "print(\"The optimal policy computed using value iteration is:\\n\\n {}\".format(pol_opt2))\n",
    "print(\"\\n\\nIts graphical representation is:\\n\")\n",
    "grid.draw_deterministic_policy(np.array([np.argmax(pol_opt2[row,:]) for row in range(grid.state_size)]))\n",
    "\n",
    "# Plot number of epoch\n",
    "print(\"\\nIt took {} epochs\\n\".format(epochs))"
   ]
  },
  {
   "cell_type": "code",
   "execution_count": null,
   "metadata": {
    "colab": {
     "base_uri": "https://localhost:8080/",
     "height": 587
    },
    "id": "OqU9MinAy7gq",
    "outputId": "58372739-b2f2-4166-c7fd-ef6aecd9bee6",
    "scrolled": true
   },
   "outputs": [
    {
     "name": "stdout",
     "output_type": "stream",
     "text": [
      "\n",
      "Impact of gamma value on the number of epochs needed for the value iteration algorithm:\n",
      "\n"
     ]
    },
    {
     "data": {
      "image/png": "[encoded data removed]",
      "text/plain": [
       "<Figure size 432x288 with 1 Axes>"
      ]
     },
     "metadata": {
      "needs_background": "light",
      "tags": []
     },
     "output_type": "display_data"
    },
    {
     "name": "stdout",
     "output_type": "stream",
     "text": [
      "\n",
      "Graphical representation of the policy for each gamma:\n",
      "\n"
     ]
    },
    {
     "data": {
      "image/png": "[encoded data removed]",
      "text/plain": [
       "<Figure size 1440x576 with 5 Axes>"
      ]
     },
     "metadata": {
      "needs_background": "light",
      "tags": []
     },
     "output_type": "display_data"
    }
   ],
   "source": [
    "# Impact of gamma on the value iteration algorithm\n",
    "gamma_range = [0, 0.2, 0.4, 0.6, 0.8]\n",
    "epochs_needed = []\n",
    "pols_needed = []\n",
    "pols_title = []\n",
    "\n",
    "# Use value iteration for each gamma value\n",
    "for gamma in gamma_range:\n",
    "    pol_opt2, epochs = grid.value_iteration(discount = gamma)\n",
    "    epochs_needed.append(epochs)\n",
    "    pols_needed.append(np.array([np.argmax(pol_opt2[row,:]) for row in range(grid.state_size)]))\n",
    "    pols_title.append(\"gamma = {}\".format(gamma))\n",
    "\n",
    "# Plot the number of epochs vs gamma values\n",
    "print(\"\\nImpact of gamma value on the number of epochs needed for the value iteration algorithm:\\n\")\n",
    "plt.figure()\n",
    "plt.plot(gamma_range, epochs_needed)\n",
    "plt.xlabel(\"Gamma range\")\n",
    "plt.ylabel(\"Number of epochs\")\n",
    "plt.show()\n",
    "\n",
    "# Print all policies for different values of gamma\n",
    "print(\"\\nGraphical representation of the policy for each gamma:\\n\")\n",
    "grid.draw_deterministic_policy_grid(pols_needed, pols_title, 1, 6)"
   ]
  }
 ],
 "metadata": {
  "colab": {
   "collapsed_sections": [],
   "name": "Lab-SOLUTIONS.ipynb",
   "provenance": []
  },
  "kernelspec": {
   "display_name": "Python 3",
   "language": "python",
   "name": "python3"
  },
  "language_info": {
   "codemirror_mode": {
    "name": "ipython",
    "version": 3
   },
   "file_extension": ".py",
   "mimetype": "text/x-python",
   "name": "python",
   "nbconvert_exporter": "python",
   "pygments_lexer": "ipython3",
   "version": "3.7.6"
  }
 },
 "nbformat": 4,
 "nbformat_minor": 1
}
